{
  "nbformat": 4,
  "nbformat_minor": 0,
  "metadata": {
    "colab": {
      "provenance": [],
      "authorship_tag": "ABX9TyN1ITJsuHWlLKV92zPlUloc",
      "include_colab_link": true
    },
    "kernelspec": {
      "name": "python3",
      "display_name": "Python 3"
    },
    "language_info": {
      "name": "python"
    }
  },
  "cells": [
    {
      "cell_type": "markdown",
      "metadata": {
        "id": "view-in-github",
        "colab_type": "text"
      },
      "source": [
        "<a href=\"https://colab.research.google.com/github/DataTak/study_deeplearning_fromscratch/blob/main/4%EC%9E%A5.ipynb\" target=\"_parent\"><img src=\"https://colab.research.google.com/assets/colab-badge.svg\" alt=\"Open In Colab\"/></a>"
      ]
    },
    {
      "cell_type": "markdown",
      "source": [
        "# Chatper4. 신경망 학습"
      ],
      "metadata": {
        "id": "7e3lc7dGUmLd"
      }
    },
    {
      "cell_type": "markdown",
      "source": [
        "## 손실함수"
      ],
      "metadata": {
        "id": "9JK2w8Z-bTqX"
      }
    },
    {
      "cell_type": "markdown",
      "source": [
        "\n",
        "MSE<br>\n",
        "회귀 문제에서 주로 사용되며, 예측 값과 실제 값의 차이를 제곱하여 평균을 구합니다.\n",
        "\n",
        "$$\n",
        "\\text{MSE} = \\frac{1}{N} \\sum_{i=1}^{N} (y_i - \\hat{y}_i)^2\n",
        "$$\n"
      ],
      "metadata": {
        "id": "6838PyD7dUQH"
      }
    },
    {
      "cell_type": "code",
      "source": [
        "## MSE(Mean Squared Error)\n",
        "import numpy as np\n",
        "def mean_squared_error(y, t):\n",
        "    return 0.5 * np.sum((y-t)**2)"
      ],
      "metadata": {
        "id": "121IQan3VQw5"
      },
      "execution_count": 1,
      "outputs": []
    },
    {
      "cell_type": "code",
      "source": [
        "y = [0.1, 0.05, 0.6, 0.0, 0.06, 0.1, 0.0, 0.1, 0.0, 0.0]\n",
        "t = [0, 0, 1, 0, 0, 0, 0, 0, 0, 0]"
      ],
      "metadata": {
        "id": "ZzYsXIWxbjOX"
      },
      "execution_count": 2,
      "outputs": []
    },
    {
      "cell_type": "code",
      "source": [
        "mean_squared_error(np.array(y), np.array(t))"
      ],
      "metadata": {
        "colab": {
          "base_uri": "https://localhost:8080/"
        },
        "id": "zot0lcHxbwR6",
        "outputId": "25170600-0793-4ca3-8682-372ee78c405e"
      },
      "execution_count": 3,
      "outputs": [
        {
          "output_type": "execute_result",
          "data": {
            "text/plain": [
              "0.09805000000000003"
            ]
          },
          "metadata": {},
          "execution_count": 3
        }
      ]
    },
    {
      "cell_type": "code",
      "source": [
        "y1 = [0.1, 0.05, 0.06, 0.0, 0.06, 0.6, 0.0, 0.1, 0.0, 0.0]\n",
        "mean_squared_error(np.array(y1), np.array(t))"
      ],
      "metadata": {
        "colab": {
          "base_uri": "https://localhost:8080/"
        },
        "id": "zM76Y4LMbz8-",
        "outputId": "afba8b8a-9c91-42f1-d3b2-3f85f1557272"
      },
      "execution_count": 4,
      "outputs": [
        {
          "output_type": "execute_result",
          "data": {
            "text/plain": [
              "0.6348499999999999"
            ]
          },
          "metadata": {},
          "execution_count": 4
        }
      ]
    },
    {
      "cell_type": "markdown",
      "source": [
        "- 손실함수 (MSE) 출력 값이 작으면 정답 레이블과의 오차도 작다."
      ],
      "metadata": {
        "id": "RtGi81Y_cCAI"
      }
    },
    {
      "cell_type": "markdown",
      "source": [
        "---"
      ],
      "metadata": {
        "id": "wXd2TMgIe-Ei"
      }
    },
    {
      "cell_type": "markdown",
      "source": [
        "\n",
        "- 교차 엔트로피 손실 (Cross-Entropy Loss)\n",
        "분류 문제에서 주로 사용되며, 예측 확률과 실제 클래스 확률의 차이를 정보 손실의 관점에서 측정합니다.\n",
        "\n",
        "$$\n",
        "\\text{Cross-Entropy} = -\\sum_{i=1}^{N} y_i \\log(\\hat{y}_i)\n",
        "$$"
      ],
      "metadata": {
        "id": "dsBLuimleBjt"
      }
    },
    {
      "cell_type": "markdown",
      "source": [
        "- 요약 비교\n",
        "\n",
        "| **손실 함수**         | **사용 주제**  | **주된 목적**                  | **계산 방식**             |\n",
        "|----------------------|----------------|--------------------------------|---------------------------|\n",
        "| 평균제곱오차(MSE)     | 회귀 문제      | 예측 값과 실제 값 차이 최소화    | 예측 오차의 제곱 평균      |\n",
        "| 교차 엔트로피        | 분류 문제      | 올바른 클래스 확률 극대화       | -로그 확률 값의 합         |\n"
      ],
      "metadata": {
        "id": "Xcn09AhTeNSR"
      }
    },
    {
      "cell_type": "code",
      "source": [
        "# CEE(Cross Entryopy Error)"
      ],
      "metadata": {
        "id": "SrojVN4kb9La"
      },
      "execution_count": 5,
      "outputs": []
    },
    {
      "cell_type": "code",
      "source": [
        "def cross_entropy_error(y, t):\n",
        "    delta = 1e-7                         # delta를 더하는 이유는 log() 함수에 0이 입력되면 -inf 출력되어 계산 불가. 무한대 방지를 위하여 활용\n",
        "    return -np.sum(t*np.log(y+delta))"
      ],
      "metadata": {
        "id": "wpuebSpkcVDR"
      },
      "execution_count": 6,
      "outputs": []
    },
    {
      "cell_type": "code",
      "source": [
        "y = [0.1, 0.05, 0.6, 0.0, 0.06, 0.1, 0.0, 0.1, 0.0, 0.0]\n",
        "t = [0, 0, 1, 0, 0, 0, 0, 0, 0, 0]\n",
        "cross_entropy_error(np.array(y), np.array(t))"
      ],
      "metadata": {
        "colab": {
          "base_uri": "https://localhost:8080/"
        },
        "id": "4EWM-XIeeczs",
        "outputId": "85de3065-d26a-49e2-89dc-018b0c8b0f70"
      },
      "execution_count": 7,
      "outputs": [
        {
          "output_type": "execute_result",
          "data": {
            "text/plain": [
              "0.510825457099338"
            ]
          },
          "metadata": {},
          "execution_count": 7
        }
      ]
    },
    {
      "cell_type": "code",
      "source": [
        "y1 = [0.1, 0.05, 0.06, 0.0, 0.06, 0.6, 0.0, 0.1, 0.0, 0.0]\n",
        "cross_entropy_error(np.array(y1), np.array(t))"
      ],
      "metadata": {
        "colab": {
          "base_uri": "https://localhost:8080/"
        },
        "id": "azUWcjYney9b",
        "outputId": "56a2ff71-21db-4483-84d3-7c1bf375e41f"
      },
      "execution_count": 8,
      "outputs": [
        {
          "output_type": "execute_result",
          "data": {
            "text/plain": [
              "2.8134090500947586"
            ]
          },
          "metadata": {},
          "execution_count": 8
        }
      ]
    },
    {
      "cell_type": "markdown",
      "source": [
        "## 미니배치학습\n",
        "- 모든 데이터를 다 넣어서 손실함수를 구하는 것이 아니라 일부 데이터를 가지고 와서 학습을 수행. 이 일부를 미니배치라고 함.\n",
        "- 계산효율성, 일반화 가능성 등 다양한 장점으로 미니배치 활용"
      ],
      "metadata": {
        "id": "kBI7Ypote_bi"
      }
    },
    {
      "cell_type": "code",
      "source": [
        "# 저자 깃 저장소 클론\n",
        "!git clone https://github.com/WegraLee/deep-learning-from-scratch.git"
      ],
      "metadata": {
        "colab": {
          "base_uri": "https://localhost:8080/"
        },
        "id": "Zmxqvct7e5cg",
        "outputId": "8ee56059-5e86-4a01-925e-9a6ec9187125"
      },
      "execution_count": 9,
      "outputs": [
        {
          "output_type": "stream",
          "name": "stdout",
          "text": [
            "Cloning into 'deep-learning-from-scratch'...\n",
            "remote: Enumerating objects: 853, done.\u001b[K\n",
            "remote: Counting objects: 100% (23/23), done.\u001b[K\n",
            "remote: Compressing objects: 100% (18/18), done.\u001b[K\n",
            "remote: Total 853 (delta 9), reused 13 (delta 5), pack-reused 830 (from 1)\u001b[K\n",
            "Receiving objects: 100% (853/853), 52.33 MiB | 16.36 MiB/s, done.\n",
            "Resolving deltas: 100% (486/486), done.\n"
          ]
        }
      ]
    },
    {
      "cell_type": "code",
      "source": [
        "import sys, os\n",
        "sys.path.append(\"/content/deep-learning-from-scratch\")  #불러온 깃 저장소를\n",
        "from dataset.mnist import load_mnist"
      ],
      "metadata": {
        "id": "Z7GZil46gjYH"
      },
      "execution_count": 10,
      "outputs": []
    },
    {
      "cell_type": "code",
      "source": [
        "(x_train, t_train), (x_test, t_test) = load_mnist(normalize=True, one_hot_label=True)"
      ],
      "metadata": {
        "id": "4etdwn93goCj",
        "colab": {
          "base_uri": "https://localhost:8080/"
        },
        "outputId": "1b5845d1-6229-445a-9a5e-5fd890747833"
      },
      "execution_count": 11,
      "outputs": [
        {
          "output_type": "stream",
          "name": "stdout",
          "text": [
            "Converting train-images-idx3-ubyte.gz to NumPy Array ...\n",
            "Done\n",
            "Converting train-labels-idx1-ubyte.gz to NumPy Array ...\n",
            "Done\n",
            "Converting t10k-images-idx3-ubyte.gz to NumPy Array ...\n",
            "Done\n",
            "Converting t10k-labels-idx1-ubyte.gz to NumPy Array ...\n",
            "Done\n",
            "Creating pickle file ...\n",
            "Done!\n"
          ]
        }
      ]
    },
    {
      "cell_type": "code",
      "source": [
        "print(x_train.shape)\n",
        "print(t_train.shape)\n",
        "print(x_test.shape)\n",
        "print(t_test.shape)"
      ],
      "metadata": {
        "colab": {
          "base_uri": "https://localhost:8080/"
        },
        "id": "_xT7exePg0yi",
        "outputId": "0a96b053-d575-456a-ba99-4f76c9ffe360"
      },
      "execution_count": 12,
      "outputs": [
        {
          "output_type": "stream",
          "name": "stdout",
          "text": [
            "(60000, 784)\n",
            "(60000, 10)\n",
            "(10000, 784)\n",
            "(10000, 10)\n"
          ]
        }
      ]
    },
    {
      "cell_type": "code",
      "source": [
        "train_size = x_train.shape[0]\n",
        "batch_size = 10\n",
        "batch_mask = np.random.choice(train_size, batch_size)\n",
        "x_batch = x_train[batch_mask]\n",
        "t_batch = t_train[batch_mask]"
      ],
      "metadata": {
        "id": "MwfHeophg3QY"
      },
      "execution_count": 13,
      "outputs": []
    },
    {
      "cell_type": "code",
      "source": [
        "batch_mask"
      ],
      "metadata": {
        "colab": {
          "base_uri": "https://localhost:8080/"
        },
        "id": "ixCUVxkmhIZX",
        "outputId": "3d670f50-f898-454c-908b-cf239bac763b"
      },
      "execution_count": 14,
      "outputs": [
        {
          "output_type": "execute_result",
          "data": {
            "text/plain": [
              "array([ 1882, 30238, 31341, 31829, 11406, 11247, 51472, 43057, 13132,\n",
              "       35319])"
            ]
          },
          "metadata": {},
          "execution_count": 14
        }
      ]
    },
    {
      "cell_type": "code",
      "source": [
        "#미니배치용 CEE\n",
        "def cross_entropy_error(y, t):\n",
        "    if y.ndim == 1:\n",
        "        t = t.reshape(1, t.size)\n",
        "        y = y.reshape(1, y.size)\n",
        "\n",
        "    batch_size = y.shape[0]\n",
        "    return -np.sum(t*np.log(y))/batch_size"
      ],
      "metadata": {
        "id": "7pur1Slwjq53"
      },
      "execution_count": 15,
      "outputs": []
    },
    {
      "cell_type": "markdown",
      "source": [
        "- 손실함수를 설정하는 이유\n",
        "    - 신경망을 학습할 때 정확도를 지표로 삼으면 매개변수의 미분이 대부분의 장소에서 0이된다.\n",
        "        - 정확도는 매개변수의 변화에 거의 반응을 보이지 않고, 반응이 있더라도 불연속적으로 변화(계단함수 같다고 생각하면 쉬움.)\n",
        "- <GPT 활용 손실함수 사용 이유 답변>\n",
        "1. 정확도는 연속적인 피드백을 제공하지 않습니다.\n",
        "- 정확도는 예측이 정확한지 아닌지만 판단하기 때문에 모델이 어디에서 얼마나 틀렸는지를 알려주지 않습니다. - 예를 들어, 예측이 실제 값과 조금 벗어난 경우에도 정확도는 틀렸다고 표시하지만, 손실 함수는 이 차이를 구체적으로 계산해줍니다.\n",
        "- 모델이 학습하는 동안 얼마나 개선되고 있는지를 세부적으로 파악하기 위해서는 차이를 연속적인 값으로 표시하는 손실 함수가 필요합니다.\n",
        "2. 손실 함수는 미분 가능한 수치 피드백을 제공합니다.\n",
        "- 딥러닝 모델을 훈련할 때는 경사하강법을 통해 가중치를 업데이트합니다. 경사하강법은 손실 함수의 **기울기(미분)**를 사용하여 손실을 최소화하는 방향으로 가중치를 조정합니다.\n",
        "- 정확도는 불연속적인 값이므로 미분이 불가능하여, 이를 기준으로 경사하강법을 사용할 수 없습니다. 반면 손실 함수는 미분 가능하므로, 학습 과정에서 손실을 최소화하는 방향으로 모델을 최적화할 수 있습니다.\n",
        "3. 손실 함수는 세부적인 성능 차이를 학습에 반영할 수 있습니다.\n",
        "- 손실 함수는 예측값과 실제값 간의 차이를 연속적인 값으로 표현하기 때문에, 예측의 오차 크기와 방향을 모델에 피드백으로 제공할 수 있습니다.\n",
        "- 특히 회귀 문제에서 평균제곱오차(MSE)와 같은 손실 함수는 예측값이 실제값과 얼마나 가까운지를 나타내어, 모델이 세밀하게 개선될 수 있도록 돕습니다.\n",
        "- 분류 문제에서도 교차 엔트로피 손실을 통해 모델이 정확한 클래스의 확률을 더 높게 예측하도록 유도할 수 있습니다.\n",
        "\n"
      ],
      "metadata": {
        "id": "Yqtp6cV5lNZT"
      }
    },
    {
      "cell_type": "markdown",
      "source": [
        "## 수치미분"
      ],
      "metadata": {
        "id": "t4kMMat7oBuc"
      }
    },
    {
      "cell_type": "code",
      "source": [
        "#수치 미분 계산 함수\n",
        "def numerical_diff(f, x):\n",
        "    h = 1e-4  #h값을 너무 작게 하면 반올림오차의 문제가 만들어진다(0으로 처리)\n",
        "    return (f(x+h) - f(x-h)) / (2*h)"
      ],
      "metadata": {
        "id": "L5xN0GKVjvau"
      },
      "execution_count": 16,
      "outputs": []
    },
    {
      "cell_type": "code",
      "source": [
        "#기울기\n",
        "def numerical_gradient(f, x):\n",
        "    h = 1e-4\n",
        "    grad = np.zeros_like(x)   #x와 형상이 같은 배열 생성\n",
        "\n",
        "    for idx in range(x.size):\n",
        "        tmp_val = x[idx]\n",
        "\n",
        "        x[idx] = tmp_val + h\n",
        "        fxh1 = f(x)\n",
        "\n",
        "        x[idx] = tmp_val - h\n",
        "        fxh2 = f(x)\n",
        "\n",
        "        grad[idx] = (fxh1 - fxh2)/(2*h)\n",
        "        x[idx] = tmp_val\n",
        "    return grad"
      ],
      "metadata": {
        "id": "zJ6aKPFUppoq"
      },
      "execution_count": 17,
      "outputs": []
    },
    {
      "cell_type": "markdown",
      "source": [
        "## 경사하강법 (Gradient Descent) _ GPT활용\n",
        "\n",
        "경사하강법은 함수의 기울기를 이용하여 **최소값**을 찾아가는 최적화 알고리즘입니다. 예를 들어, 다음과 같은 함수가 있다고 가정해보겠습니다.\n",
        "\n",
        "$$\n",
        "y = x_0^2 + x_1^2\n",
        "$$\n",
        "\n",
        "이 함수의 최소값을 찾기 위해 각 변수 \\( x_0 \\)와 \\( x_1 \\)에 대한 **편미분**을 계산하여, 기울기가 가리키는 반대 방향으로 이동하며 \\( y \\) 값을 점차 줄입니다.\n",
        "\n",
        "### 1. 기울기 계산\n",
        "먼저, \\( y \\)를 \\( x_0 \\)와 \\( x_1 \\)에 대해 편미분하여 기울기를 구합니다.\n",
        "\n",
        "$$\n",
        "\\frac{\\partial y}{\\partial x_0} = 2x_0\n",
        "$$\n",
        "\n",
        "$$\n",
        "\\frac{\\partial y}{\\partial x_1} = 2x_1\n",
        "$$\n",
        "\n",
        "따라서, 기울기 벡터는 다음과 같이 표현됩니다.\n",
        "\n",
        "$$\n",
        "\\nabla y = \\begin{bmatrix} 2x_0 \\\\ 2x_1 \\end{bmatrix}\n",
        "$$\n",
        "\n",
        "### 2. 기울기를 이용한 변수 업데이트\n",
        "경사하강법에서는 기울기 벡터의 반대 방향으로 이동하면서 변수를 업데이트합니다. 학습률(learning rate)을 \\( \\eta \\)라고 할 때, 경사하강법에 따라 변수 \\( x_0 \\)와 \\( x_1 \\)는 다음과 같이 업데이트됩니다.\n",
        "\n",
        "$$\n",
        "x_0 = x_0 - \\eta \\cdot \\frac{\\partial y}{\\partial x_0} = x_0 - \\eta \\cdot 2x_0\n",
        "$$\n",
        "\n",
        "$$\n",
        "x_1 = x_1 - \\eta \\cdot \\frac{\\partial y}{\\partial x_1} = x_1 - \\eta \\cdot 2x_1\n",
        "$$\n",
        "\n",
        "### 3. 반복 수행\n",
        "이 과정을 반복하면 \\( x_0 \\)와 \\( x_1 \\) 값이 점차적으로 함수 \\( y \\)의 최소값을 향해 이동하게 됩니다. 학습률 \\( \\eta \\)의 값이 적절히 조절되면, 경사하강법은 수렴하여 최소값에 도달하게 됩니다.\n"
      ],
      "metadata": {
        "id": "w09sEXVcsv8y"
      }
    },
    {
      "cell_type": "code",
      "source": [
        "def gradient_descent(f, init_x, lr=0.01, step_num=100):  #f: 함수 / init_x: 초깃값, lr: 학습률, step_num: 반복횟수)\n",
        "    x = init_x\n",
        "\n",
        "    for i in range(step_num):\n",
        "        grad = numerical_gradient(f, x)\n",
        "        x -= lr * grad\n",
        "    return x"
      ],
      "metadata": {
        "id": "3qsuEExLqWJI"
      },
      "execution_count": 18,
      "outputs": []
    },
    {
      "cell_type": "code",
      "source": [
        "#경사하강법으로 f(x0, x1) = x0^2 + x1^2 의 최솟값 구하기\n",
        "def function_2(x):\n",
        "    return x[0]**2 + x[1]**2"
      ],
      "metadata": {
        "id": "y7ZPNsiytNLI"
      },
      "execution_count": 19,
      "outputs": []
    },
    {
      "cell_type": "code",
      "source": [
        "init_x = np.array([-3.0, 4.0])"
      ],
      "metadata": {
        "id": "aQbzmQ-3uMgA"
      },
      "execution_count": 20,
      "outputs": []
    },
    {
      "cell_type": "code",
      "source": [
        "init_x = np.array([-3.0, 4.0])\n",
        "gradient_descent(function_2, init_x = init_x, lr=10.0, step_num = 100)"
      ],
      "metadata": {
        "colab": {
          "base_uri": "https://localhost:8080/"
        },
        "id": "dfckw5Tmuiju",
        "outputId": "52273f70-7fa3-4ff9-d0ab-412d44124330"
      },
      "execution_count": 21,
      "outputs": [
        {
          "output_type": "execute_result",
          "data": {
            "text/plain": [
              "array([-2.58983747e+13, -1.29524862e+12])"
            ]
          },
          "metadata": {},
          "execution_count": 21
        }
      ]
    },
    {
      "cell_type": "markdown",
      "source": [
        "- lr의 수치에 따라서 너무 크면 발산 / 작으면 거의 갱신이 되지 않음.\n",
        "- lr과 같은 매개변수를 하이퍼파라미터(hyper parameter)라고 함.\n",
        "    - 사람이 직접 설정해야 하는 매개변수."
      ],
      "metadata": {
        "id": "VNAY_ED2vyCA"
      }
    },
    {
      "cell_type": "markdown",
      "source": [
        "## 신경망 기울기 구하기"
      ],
      "metadata": {
        "id": "Tgmv1mVh1Mxj"
      }
    },
    {
      "cell_type": "code",
      "source": [
        "from common.functions import softmax, cross_entropy_error\n",
        "from common.gradient import numerical_gradient"
      ],
      "metadata": {
        "id": "7LxeuFaiui1-"
      },
      "execution_count": 22,
      "outputs": []
    },
    {
      "cell_type": "code",
      "source": [
        "class simpleNet:\n",
        "    def __init__(self):\n",
        "        self.W = np.random.randn(2,3)\n",
        "\n",
        "    def predict(self, x):\n",
        "        return np.dot(x, self.W)\n",
        "\n",
        "    def loss(self, x, t):\n",
        "        z = self.predict(x)\n",
        "        y = softmax(z)\n",
        "        loss = cross_entropy_error(y, t)\n",
        "        return loss\n",
        ""
      ],
      "metadata": {
        "id": "FGggtMWu1cZ1"
      },
      "execution_count": 23,
      "outputs": []
    },
    {
      "cell_type": "code",
      "source": [
        "net = simpleNet()\n",
        "print(net.W)"
      ],
      "metadata": {
        "colab": {
          "base_uri": "https://localhost:8080/"
        },
        "id": "LZ5bT_EL1vn9",
        "outputId": "1b04153c-29fa-4f09-b732-b04475e2d7ae"
      },
      "execution_count": 25,
      "outputs": [
        {
          "output_type": "stream",
          "name": "stdout",
          "text": [
            "[[-0.68496159 -0.34648499  1.25277233]\n",
            " [ 0.99134541 -0.10017676 -2.84606048]]\n"
          ]
        }
      ]
    },
    {
      "cell_type": "code",
      "source": [
        "x = np.array([0.6, 0.9])\n",
        "p = net.predict(x)"
      ],
      "metadata": {
        "id": "sMFR7gjo2_fq"
      },
      "execution_count": 26,
      "outputs": []
    },
    {
      "cell_type": "code",
      "source": [
        "p"
      ],
      "metadata": {
        "colab": {
          "base_uri": "https://localhost:8080/"
        },
        "id": "iUpQ6Iyn3HCI",
        "outputId": "91651550-f232-4a0d-def4-4cb596267978"
      },
      "execution_count": 27,
      "outputs": [
        {
          "output_type": "execute_result",
          "data": {
            "text/plain": [
              "array([ 0.48123392, -0.29805008, -1.80979104])"
            ]
          },
          "metadata": {},
          "execution_count": 27
        }
      ]
    },
    {
      "cell_type": "code",
      "source": [
        "t = np.array([0,0,1])\n",
        "net.loss(x, t)"
      ],
      "metadata": {
        "colab": {
          "base_uri": "https://localhost:8080/"
        },
        "id": "PUo-akh23IOj",
        "outputId": "3ed1f24b-a4f7-479e-991a-5ab760c7f203"
      },
      "execution_count": 28,
      "outputs": [
        {
          "output_type": "execute_result",
          "data": {
            "text/plain": [
              "2.7356432549397143"
            ]
          },
          "metadata": {},
          "execution_count": 28
        }
      ]
    },
    {
      "cell_type": "code",
      "source": [
        "def f(W):\n",
        "    return net.loss(x, t)\n",
        "\n",
        "dW = numerical_gradient(f, net.W)\n",
        "dW"
      ],
      "metadata": {
        "colab": {
          "base_uri": "https://localhost:8080/"
        },
        "id": "IqcKfyzH3Qm_",
        "outputId": "4b4ad635-d653-475c-e3c7-0d2b4ffb1c41"
      },
      "execution_count": 30,
      "outputs": [
        {
          "output_type": "execute_result",
          "data": {
            "text/plain": [
              "array([[ 0.38464017,  0.17644766, -0.56108783],\n",
              "       [ 0.57696026,  0.26467149, -0.84163174]])"
            ]
          },
          "metadata": {},
          "execution_count": 30
        }
      ]
    },
    {
      "cell_type": "markdown",
      "source": [
        "---\n",
        "- 신경망 학습 이루어지는 순서\n",
        " - 전제: 신경망에는 적응 가능한 가중치와 편향이 있고, 이 가중치와 편향을 훈련 데이터에 적응하도록 조정하는 과정을 '학습'이라고 한다.\n",
        " 1. 미니배치: 훈련 데이터 중 일부를 무작위로 가지고 오기. 이렇게 선별한 데이터를 미니배치라고 하며 미니 배치의 손실 함수 값을 줄이는 것이 목표\n",
        " 2. 기울기 산출: 미니배치의 손실 함수 값을 줄이기 위해 각 가중치 매개변수의 기울기를 구한다. 기울기는 손실 함수의 값을 가장 작게하는 방향을 제시한다.\n",
        " 3. 매개변수 갱신: 가중치 매개변수를 기울기 방향으로 아주 조금 갱신\n",
        " 4. 반복: 1~4단계 반복"
      ],
      "metadata": {
        "id": "h6ICCI0k4a_G"
      }
    },
    {
      "cell_type": "markdown",
      "source": [
        "- 확률적 경사 하강법(stochastic gradient descent, SGD). 미니배치로 무작위로 데이터를 선정하기 때문에 확률적 이라고 붙여준다."
      ],
      "metadata": {
        "id": "HXBykfTR5qCX"
      }
    },
    {
      "cell_type": "markdown",
      "source": [
        "## 2층 신경망 클래스 구현하기"
      ],
      "metadata": {
        "id": "7TTrjcSn56ZC"
      }
    },
    {
      "cell_type": "code",
      "source": [
        "from common.functions import *\n",
        "from common.gradient import numerical_gradient"
      ],
      "metadata": {
        "id": "m-OivXad3s34"
      },
      "execution_count": 31,
      "outputs": []
    },
    {
      "cell_type": "code",
      "source": [
        "class TwoLayerNet:\n",
        "    def __init__(self, input_size, hidden_size, output_size, weight_init_std=0.01):\n",
        "        self.params = {}\n",
        "        self.params['W1'] = weight_init_std * np.random.randn(input_size, hidden_size)\n",
        "        self.params['b1'] = np.zeros(hidden_size)\n",
        "        self.params['W2'] = weight_init_std * np.random.randn(hidden_size, output_size)\n",
        "        self.params['b2'] = np.zeros(output_size)\n",
        "\n",
        "    def predict(self, x):\n",
        "        W1, W2 = self.params['W1'], self.params['W2']\n",
        "\n",
        "        b1, b2 = self.params['b1'], self.params['b2']\n",
        "\n",
        "        a1 = np.dot(x, W1) + b1\n",
        "        z1 = sigmoid(a1)\n",
        "        a2 = np.dot(z1, W2) + b2\n",
        "        y = softmax(a2)\n",
        "\n",
        "        return y\n",
        "\n",
        "    def loss(self, x, t):\n",
        "        y = self.predict(x)\n",
        "        y = np.argmax(y, axis = 1)\n",
        "        t = np.argmax(t, axis = 1)\n",
        "\n",
        "        accuracy = np.sum(y == t) / float(x.shape[0])\n",
        "        return accuracy\n",
        "\n",
        "    def numerical_gradient(self, x, t):\n",
        "        loss_W = lambda W: self.loss(x, t)\n",
        "\n",
        "        grads = {}\n",
        "        grads['W1'] = numerical_gradient(loss_W, self.params['W1'])\n",
        "        grads['b1'] = numerical_gradient(loss_W, self.params['b1'])\n",
        "        grads['W2'] = numerical_gradient(loss_W, self.params['W2'])\n",
        "        grads['b2'] = numerical_gradient(loss_W, self.params['b2'])\n",
        "\n",
        "        return grads"
      ],
      "metadata": {
        "id": "43G_Z25n6D43"
      },
      "execution_count": 32,
      "outputs": []
    },
    {
      "cell_type": "code",
      "source": [
        "net = TwoLayerNet(input_size=784, hidden_size=100, output_size = 10)\n"
      ],
      "metadata": {
        "colab": {
          "base_uri": "https://localhost:8080/"
        },
        "id": "wYwSISH68Poc",
        "outputId": "58d451c8-08d9-4f9e-baa6-8a81eca4d75b"
      },
      "execution_count": 33,
      "outputs": [
        {
          "output_type": "execute_result",
          "data": {
            "text/plain": [
              "(784, 100)"
            ]
          },
          "metadata": {},
          "execution_count": 33
        }
      ]
    },
    {
      "cell_type": "code",
      "source": [
        "print(net.params['W1'].shape)\n",
        "print(net.params['b1'].shape)\n",
        "print(net.params['W2'].shape)\n",
        "print(net.params['b2'].shape)"
      ],
      "metadata": {
        "colab": {
          "base_uri": "https://localhost:8080/"
        },
        "id": "WDruNL2O8Xvx",
        "outputId": "38f120d3-5ed9-4c12-a8fb-c06cbdd18750"
      },
      "execution_count": 34,
      "outputs": [
        {
          "output_type": "stream",
          "name": "stdout",
          "text": [
            "(784, 100)\n",
            "(100,)\n",
            "(100, 10)\n",
            "(10,)\n"
          ]
        }
      ]
    },
    {
      "cell_type": "code",
      "source": [
        "x = np.random.rand(100, 784)\n",
        "t = np.random.rand(100, 10)\n",
        "\n",
        "grads = net.numerical_gradient(x, t)\n"
      ],
      "metadata": {
        "id": "IdPxBrG28dJs"
      },
      "execution_count": 38,
      "outputs": []
    },
    {
      "cell_type": "markdown",
      "source": [
        "- 위 코드로 학습하는데 3분 이상 걸림\n",
        "- 수치 미분 방식으로 계산하면 연산 속도가 느린데, 오차역전파를 이용하면 빠르게 계산 가능."
      ],
      "metadata": {
        "id": "6JZR2adH93i0"
      }
    },
    {
      "cell_type": "code",
      "source": [
        "print(grads['W1'].shape)\n",
        "print(grads['b1'].shape)\n",
        "print(grads['W2'].shape)\n",
        "print(grads['b2'].shape)"
      ],
      "metadata": {
        "colab": {
          "base_uri": "https://localhost:8080/"
        },
        "id": "tntSj9db8oht",
        "outputId": "4fb0db01-abfd-4208-c3e2-a3b4cffac7fa"
      },
      "execution_count": 39,
      "outputs": [
        {
          "output_type": "stream",
          "name": "stdout",
          "text": [
            "(784, 100)\n",
            "(100,)\n",
            "(100, 10)\n",
            "(10,)\n"
          ]
        }
      ]
    },
    {
      "cell_type": "markdown",
      "source": [
        "### 미니배치 학습 구현하기"
      ],
      "metadata": {
        "id": "I0FCZoa29eFR"
      }
    },
    {
      "cell_type": "code",
      "source": [
        "from dataset.mnist import load_mnist\n",
        "from ch04.two_layer_net import TwoLayerNet"
      ],
      "metadata": {
        "id": "jb_GJbKb9CtM"
      },
      "execution_count": 42,
      "outputs": []
    },
    {
      "cell_type": "code",
      "source": [
        "(x_train, t_train), (x_test, t_test) = load_mnist(normalize=True, one_hot_label = True)\n",
        "\n",
        "train_loss_list = []\n",
        "\n",
        "#하이퍼파라미터\n",
        "iters_num = 1000\n",
        "train_size = x_train.shape[0]\n",
        "batch_size = 100\n",
        "learning_rate = 0.1\n",
        "\n",
        "network = TwoLayerNet(input_size = 784, hidden_size = 50, output_size = 10)\n",
        "\n",
        "for i in range(iters_num):\n",
        "    batch_mask = np.random.choice(train_size, batch_size)\n",
        "    x_batch = x_train[batch_mask]\n",
        "    t_batch = t_train[batch_mask]\n",
        "\n",
        "    grad = network.gradient(x_batch, t_batch)\n",
        "\n",
        "    for key in ('W1', 'b1', 'W2', 'b2'):\n",
        "        network.params[key] -= learning_rate * grad[key]\n",
        "\n",
        "    loss = network.loss(x_batch, t_batch)\n",
        "    train_loss_list.append(loss)"
      ],
      "metadata": {
        "id": "Jj9VzudP9oWQ"
      },
      "execution_count": 46,
      "outputs": []
    },
    {
      "cell_type": "code",
      "source": [
        "import matplotlib.pyplot as plt\n",
        "\n",
        "plt.plot(train_loss_list)"
      ],
      "metadata": {
        "colab": {
          "base_uri": "https://localhost:8080/",
          "height": 448
        },
        "id": "c_ubNZLLALAA",
        "outputId": "51686810-95c0-4907-8e2b-ee5423a90da1"
      },
      "execution_count": 49,
      "outputs": [
        {
          "output_type": "execute_result",
          "data": {
            "text/plain": [
              "[<matplotlib.lines.Line2D at 0x7a7571f66e90>]"
            ]
          },
          "metadata": {},
          "execution_count": 49
        },
        {
          "output_type": "display_data",
          "data": {
            "text/plain": [
              "<Figure size 640x480 with 1 Axes>"
            ],
            "image/png": "[encoded data removed]"
          },
          "metadata": {}
        }
      ]
    },
    {
      "cell_type": "markdown",
      "source": [
        "- 1에폭별 훈련데이터, 시험데이터 정확도 기록하기(훈련데이터에만 적합한 오버피팅 모델이 되지 않도록 확인)\n",
        "    - 에폭(epch): 하나의 단위. 1에폭은 학습에서 훈련 데이터를 모두 소진했을 때의 횟수에 해당.\n",
        "        - 훈련데이터 10,000개를 100개의 미니배치로 학습할 경우, SGD을 100회 반복하면 훈련데이터를 소진. 100회가 1에폭!"
      ],
      "metadata": {
        "id": "mhjf0QedA3Aq"
      }
    },
    {
      "cell_type": "code",
      "source": [
        "# 위 코드에서 일부 수정\n",
        "(x_train, t_train), (x_test, t_test) = load_mnist(normalize=True, one_hot_label = True)\n",
        "\n",
        "train_loss_list = []\n",
        "train_acc_list = []\n",
        "test_acc_list = []\n",
        "\n",
        "\n",
        "#하이퍼파라미터\n",
        "iters_num = 10000\n",
        "train_size = x_train.shape[0]\n",
        "batch_size = 100\n",
        "learning_rate = 0.1\n",
        "\n",
        "iter_per_epoch = max(train_size / batch_size, 1)\n",
        "\n",
        "\n",
        "network = TwoLayerNet(input_size = 784, hidden_size = 50, output_size = 10)\n",
        "\n",
        "for i in range(iters_num):\n",
        "    batch_mask = np.random.choice(train_size, batch_size)\n",
        "    x_batch = x_train[batch_mask]\n",
        "    t_batch = t_train[batch_mask]\n",
        "\n",
        "    grad = network.gradient(x_batch, t_batch)\n",
        "\n",
        "    for key in ('W1', 'b1', 'W2', 'b2'):\n",
        "        network.params[key] -= learning_rate * grad[key]\n",
        "\n",
        "    loss = network.loss(x_batch, t_batch)\n",
        "    train_loss_list.append(loss)\n",
        "\n",
        "    if i % iter_per_epoch == 0:\n",
        "        train_acc = network.accuracy(x_train, t_train)\n",
        "        test_acc = network.accuracy(x_test, t_test)\n",
        "        train_acc_list.append(train_acc)\n",
        "        test_acc_list.append(test_acc)\n",
        "        print(\"train acc, test acc : \" + str(train_acc) + \", \" + str(test_acc))\n"
      ],
      "metadata": {
        "colab": {
          "base_uri": "https://localhost:8080/"
        },
        "id": "N7NyDwOuAWwo",
        "outputId": "4cb3dfee-f538-422d-84a3-cf1171ae9b4d"
      },
      "execution_count": 56,
      "outputs": [
        {
          "output_type": "stream",
          "name": "stdout",
          "text": [
            "train acc, test acc : 0.10216666666666667, 0.101\n",
            "train acc, test acc : 0.7949833333333334, 0.8025\n",
            "train acc, test acc : 0.8771, 0.8805\n",
            "train acc, test acc : 0.89855, 0.9019\n",
            "train acc, test acc : 0.9082, 0.9106\n",
            "train acc, test acc : 0.9149333333333334, 0.9158\n",
            "train acc, test acc : 0.9197833333333333, 0.9228\n",
            "train acc, test acc : 0.9233833333333333, 0.9268\n",
            "train acc, test acc : 0.9283166666666667, 0.9299\n",
            "train acc, test acc : 0.9320166666666667, 0.934\n",
            "train acc, test acc : 0.9352, 0.9378\n",
            "train acc, test acc : 0.93825, 0.9379\n",
            "train acc, test acc : 0.9392833333333334, 0.9399\n",
            "train acc, test acc : 0.9419666666666666, 0.9426\n",
            "train acc, test acc : 0.9440333333333333, 0.9449\n",
            "train acc, test acc : 0.9460666666666666, 0.945\n",
            "train acc, test acc : 0.9480333333333333, 0.9458\n"
          ]
        }
      ]
    },
    {
      "cell_type": "markdown",
      "source": [
        "# 정리\n",
        "- 기계학습에서 사용하는 데이터셋은 훈련 데이터와 시험 데이터로 나눠 사용\n",
        "- 훈련 데이터로 학습한 모델의 범용 능력을 시험 데이터로 평가\n",
        "- 신경망 학습은 손실함수를 지표로, 손실 함수의 값이 작아지는 방향으로 가중치 매개변수를 갱신\n",
        "- 가중치 매개변수를 갱신할 때는 가중치 매개변수의 기울기를 이용하고, 기울어진 방향으로 가중치의 값을 갱신하는 작업을 반복한다.\n",
        "- 아주 작은 값을 주엇을 때의 차분으로 미분하는 것을 수치 미분이라고 한다.\n",
        "- 수치 미분을 이용해 가중치 매개변수의 기울기를 구할 수 있다.\n",
        "- 수치 미분을 이용한 계산에는 시간이 걸리지만, 그 구현은 간단. 오차역전파를 활용하면 기울기를 고속으로 구할 수 있음."
      ],
      "metadata": {
        "id": "w7cp-4QvGvPv"
      }
    },
    {
      "cell_type": "code",
      "source": [],
      "metadata": {
        "id": "585N6CSmF3Z7"
      },
      "execution_count": null,
      "outputs": []
    }
  ]
}